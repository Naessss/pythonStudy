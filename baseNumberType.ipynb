{
  "nbformat": 4,
  "nbformat_minor": 0,
  "metadata": {
    "colab": {
      "provenance": [],
      "authorship_tag": "ABX9TyNeoSilXpUvc4so1F/qGtZQ",
      "include_colab_link": true
    },
    "kernelspec": {
      "name": "python3",
      "display_name": "Python 3"
    },
    "language_info": {
      "name": "python"
    }
  },
  "cells": [
    {
      "cell_type": "markdown",
      "metadata": {
        "id": "view-in-github",
        "colab_type": "text"
      },
      "source": [
        "<a href=\"https://colab.research.google.com/github/Naessss/pythonStudy/blob/master/baseNumberType.ipynb\" target=\"_parent\"><img src=\"https://colab.research.google.com/assets/colab-badge.svg\" alt=\"Open In Colab\"/></a>"
      ]
    },
    {
      "cell_type": "code",
      "execution_count": 4,
      "metadata": {
        "colab": {
          "base_uri": "https://localhost:8080/"
        },
        "id": "0DLvORFB6gTo",
        "outputId": "86dae9e8-3279-4f12-deee-bea08d9d9bc5"
      },
      "outputs": [
        {
          "output_type": "stream",
          "name": "stdout",
          "text": [
            "123 -123 0\n"
          ]
        }
      ],
      "source": [
        "# 주석은 실행이 되지 않는 문구를 말함\n",
        "# 주석은 코드에 설명을 작성하는 부분으로 사용\n",
        "\n",
        "# 숫자 자료형 (Number Type) : 숫자 형태로 이루어진 자료형\n",
        "# 123 -> 정수 // 12.345 -> 실수 // 8, 16진수도 포함됨\n",
        "\n",
        "# 정수형( integer ) 양, 음의 정수, 0을 표현\n",
        "a = 123\n",
        "b = -123\n",
        "c = 0\n",
        "\n",
        "print(a, b, c)\n"
      ]
    },
    {
      "cell_type": "code",
      "source": [
        "# 실수형 (floating-point) : 소수점이 포함된 숫자\n",
        "d = 1.2\n",
        "e = -3.45\n",
        "\n",
        "print(d, e)"
      ],
      "metadata": {
        "colab": {
          "base_uri": "https://localhost:8080/"
        },
        "id": "koBzLQCD74Hq",
        "outputId": "ade11c1a-e116-4fe3-df08-3fbcf5536f53"
      },
      "execution_count": 5,
      "outputs": [
        {
          "output_type": "stream",
          "name": "stdout",
          "text": [
            "1.2 -3.45\n"
          ]
        }
      ]
    },
    {
      "cell_type": "code",
      "source": [
        "# 지수\n",
        "f = 1.23e10\n",
        "g = 1.23e-3\n",
        "print(f, g)"
      ],
      "metadata": {
        "colab": {
          "base_uri": "https://localhost:8080/"
        },
        "id": "3AC30csT9PFv",
        "outputId": "b021e019-f270-4ee4-f0b8-bce97a66120c"
      },
      "execution_count": 11,
      "outputs": [
        {
          "output_type": "stream",
          "name": "stdout",
          "text": [
            "12300000000.0 0.00123\n"
          ]
        }
      ]
    },
    {
      "cell_type": "code",
      "source": [
        "# 8진수 ( 0~7 )\n",
        "# 16진수 ( 0~9 A~F )\n",
        "h = 0o77\n",
        "i = 0xAA\n",
        "print(h, i)"
      ],
      "metadata": {
        "colab": {
          "base_uri": "https://localhost:8080/"
        },
        "id": "pqPlkc3_9xx2",
        "outputId": "96f8c58d-f26c-40c8-ff1e-5adfb14f8331"
      },
      "execution_count": 17,
      "outputs": [
        {
          "output_type": "stream",
          "name": "stdout",
          "text": [
            "63 170\n"
          ]
        }
      ]
    },
    {
      "cell_type": "code",
      "source": [
        "# 사칙연산( + - * / ) -> 오칙연산( + - * / % )\n",
        "\n",
        "a = 3\n",
        "b = 4\n",
        "c = a + b\n",
        "print(c)"
      ],
      "metadata": {
        "colab": {
          "base_uri": "https://localhost:8080/"
        },
        "id": "h34DoQPm_S4X",
        "outputId": "40e5906c-8596-4034-a24a-84b36e640c40"
      },
      "execution_count": 20,
      "outputs": [
        {
          "output_type": "stream",
          "name": "stdout",
          "text": [
            "7\n"
          ]
        }
      ]
    },
    {
      "cell_type": "code",
      "source": [
        "d = a - b\n",
        "print(d)"
      ],
      "metadata": {
        "colab": {
          "base_uri": "https://localhost:8080/"
        },
        "id": "NBYC6FRFGHEd",
        "outputId": "25f51172-962e-4d91-fb05-aa63de3c7983"
      },
      "execution_count": 21,
      "outputs": [
        {
          "output_type": "stream",
          "name": "stdout",
          "text": [
            "-1\n"
          ]
        }
      ]
    },
    {
      "cell_type": "code",
      "source": [
        "e = 7 % 3\n",
        "print(e)"
      ],
      "metadata": {
        "colab": {
          "base_uri": "https://localhost:8080/"
        },
        "id": "rrBOVQJ6GMVc",
        "outputId": "1e90e8e6-6b47-4a45-85dc-751f7447aa8d"
      },
      "execution_count": 22,
      "outputs": [
        {
          "output_type": "stream",
          "name": "stdout",
          "text": [
            "1\n"
          ]
        }
      ]
    },
    {
      "cell_type": "code",
      "source": [
        "f = 7 // 3\n",
        "print(f)"
      ],
      "metadata": {
        "colab": {
          "base_uri": "https://localhost:8080/"
        },
        "id": "5GIPFetJGUKs",
        "outputId": "9ab1a052-002e-4a00-fa0e-fa6d3508d7e8"
      },
      "execution_count": 23,
      "outputs": [
        {
          "output_type": "stream",
          "name": "stdout",
          "text": [
            "2\n"
          ]
        }
      ]
    },
    {
      "cell_type": "code",
      "source": [
        "a = 3\n",
        "b = 4\n",
        "a ** b"
      ],
      "metadata": {
        "colab": {
          "base_uri": "https://localhost:8080/"
        },
        "id": "iMdibMY6GhUM",
        "outputId": "3b0c1c26-e104-4071-d40f-1c5611ca1f03"
      },
      "execution_count": 24,
      "outputs": [
        {
          "output_type": "execute_result",
          "data": {
            "text/plain": [
              "81"
            ]
          },
          "metadata": {},
          "execution_count": 24
        }
      ]
    },
    {
      "cell_type": "code",
      "source": [
        "# 복합연산자\n",
        "a = 1\n",
        "a = a + 1\n",
        "print(a)\n",
        "a += 1\n",
        "print(a)"
      ],
      "metadata": {
        "colab": {
          "base_uri": "https://localhost:8080/"
        },
        "id": "RsBshdBPHNP0",
        "outputId": "52699160-3501-4e74-e62b-6e7af002b76b"
      },
      "execution_count": 25,
      "outputs": [
        {
          "output_type": "stream",
          "name": "stdout",
          "text": [
            "2\n",
            "3\n"
          ]
        }
      ]
    },
    {
      "cell_type": "code",
      "source": [],
      "metadata": {
        "id": "FczwMI5qHiXk"
      },
      "execution_count": null,
      "outputs": []
    }
  ]
}